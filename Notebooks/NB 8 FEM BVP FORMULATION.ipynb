{
 "cells": [
  {
   "cell_type": "markdown",
   "metadata": {
    "raw_mimetype": "text/latex"
   },
   "source": [
    "(c) Juan Gomez 2019. Thanks to Universidad EAFIT for support. This material is part of the course Introduction to Finite Element Analysis"
   ]
  },
  {
   "cell_type": "markdown",
   "metadata": {},
   "source": [
    "# Finite Element Formulation of the Boundary Value Problem for Elasticity"
   ]
  },
  {
   "cell_type": "markdown",
   "metadata": {},
   "source": [
    "## Introduction"
   ]
  },
  {
   "cell_type": "markdown",
   "metadata": {},
   "source": [
    "In this section we use the discretization ideas and particularly the approximation of functions in terms of interpolated descriptions discussed previously to formulate the boundary value problem corresponding to the model of the linearized theory of elasticity. In the resulting formulation we use the displacement vector as the primary variable leading to the so-called displacement based finite element formulation. At the end of this notebook the student is expected to be able to:\n",
    "\n",
    "* Recognize the principle of virtual work as an equivalent equilibrium statement for a given state withon the model of the linearized theory of elasticity.\n",
    "\n",
    "* Recognize the process of discretization of a given domain together with a set of primary variables as one of appying interpolation theory over local subdomains.\n",
    "\n",
    "* Apply the theory of interpolation to the discretization of the different terms appearing in the principle of virtual work in the linearized theory of elasticity.\n",
    "\n",
    "* Formulate the discrete version of the equilibrium statement from the principle of virtual work."
   ]
  },
  {
   "cell_type": "markdown",
   "metadata": {},
   "source": [
    "## The principle of virtual work.\n",
    "\n",
    "The equilibrium equations from linearized theory of elasticity can alternatively be written in terms of the principle of virtual work (PVW) given by:\n",
    "\n",
    "$$\n",
    "\\int_{V(\\overrightarrow x)}\\sigma_{ij}\\delta\\varepsilon_{ij}\\operatorname dV(\\overrightarrow x)-\\int_{V(\\overrightarrow x)}f_i\\delta u_i\\operatorname dV(\\overrightarrow x)-\\int_{S_t}t_i^{(n)}\\delta u_i\\operatorname dS=0.\n",
    "$$\n",
    "\n",
    "complemented with:\n",
    "\n",
    "\n",
    "$$\n",
    "u_i=\\overline{u_i}\n",
    "$$\n",
    "\n",
    "for $\\overrightarrow x$ in $S_u$.\n",
    "\n",
    "In the above $\\delta u_i$ is an arbitrary displacement function, termed the virtual displacement field with assoctiated virtual strain:\n",
    "\n",
    "$$\n",
    "\\delta\\varepsilon_{ij}=\\frac12\\left(\\delta u_{i,j}+\\delta u_{j,i}\\right)\n",
    "$$\n",
    "\n",
    "and such that $\\delta u_i = 0$ in $S_u$.\n",
    "\n",
    "The PVW specifies that a given set $\\left(u_i,\\;\\varepsilon_{ij},\\;\\sigma_{ij}\\right)$ is the solution to an actual equilibrium state if the PVW holds for any arbitrary field $\\delta u_i$ subject to the condition $\\delta u_i = 0$ in $S_u$. For a complete proof of the principle see Love(2013)."
   ]
  },
  {
   "cell_type": "markdown",
   "metadata": {},
   "source": [
    "## Discretization of the PVW.\n",
    "\n",
    "We now use combined index notation to discretize the PVW. Here the principle would be applied for a domain $V$ corresponding to a general $N-$noded finite element. Recall that a finite element is specified by a set of local interpolation functions. In that context $u^Q$ represents the displacement vector for the $Q-$nodal point, and depending on the problem being modeled it might store 2 or 3 normal scalar components. On the other hand, the same discretization scheme is also used for the physical and virtual fields. Accordingly we write:\n",
    "\n",
    "$$\n",
    "u_i(\\overrightarrow x)=N_i^Q(\\overrightarrow x)u^Q\n",
    "$$\n",
    "\n",
    "$$\n",
    "\\varepsilon_{ij}(\\overrightarrow x)=B_{ij}^Q(\\overrightarrow x)u^Q\n",
    "$$\n",
    "\n",
    "and\n",
    "\n",
    "$$\n",
    "\\delta u_i(\\overrightarrow x)=N_i^Q(\\overrightarrow x)\\delta u^Q\n",
    "$$\n",
    "\n",
    "$$\n",
    "\\delta\\varepsilon_{ij}(\\overrightarrow x)=B_{ij}^Q(\\overrightarrow x)\\delta u^Q.\n",
    "$$\n",
    "\n",
    "Using these discretized terms in the generalized stress-strain constitutive relationship yields:\n",
    "\n",
    "$$\n",
    "\\sigma_{ij}(\\overrightarrow x)=C_{ijkl}B_{kl}^Q(\\overrightarrow x)u^Q\n",
    "$$\n",
    "\n",
    "while using all of the above in the PVW (after organizing conveniently) we have:\n",
    "\n",
    "$$\n",
    "\\delta u^Q\\int_{V(\\overrightarrow x)}{B_{ij}^Q(\\overrightarrow x)C_{ijkl}}B_{kl}^P(\\overrightarrow x)\\operatorname dV(\\overrightarrow x)u^P-\\delta u^Q\\int_{V(\\overrightarrow x)}N_i^Q(\\overrightarrow x)f_i\\operatorname dV(\\overrightarrow x)-\\delta u^Q\\int_{S_t}N_i^Q(\\overrightarrow x)t_i^n\\operatorname dS=0.\n",
    "$$\n",
    "\n",
    "\n",
    "Note that the PVW is an energy relationship (with units of distance times force) and the discrete version  can be written like:\n",
    "\n",
    "$$\n",
    "\\delta u^Qf_\\sigma^Q-\\delta u^Qf_V^Q-\\delta u^Qf_t^Q=0\n",
    "$$\n",
    "\n",
    "where $f_\\sigma^Q$, $f_V^Q$ and $f_t^Q$ are nodal forces associated to element stresses $\\sigma_{ij}$, body forces $f_i$ and surface tractions $t_i^n$ and defined by:\n",
    "\n",
    "$$\n",
    "f_\\sigma^Q=\\int_{V(\\overrightarrow x)}B_{ij}^Q(\\overrightarrow x)C_{ijkl}B_{kl}^P(\\overrightarrow x)\\operatorname dV(\\overrightarrow x)u^P\\equiv K^{QP}u^P\n",
    "$$\n",
    "$$\n",
    "f_V^Q=\\int_{V(\\overrightarrow x)}N_i^Q(\\overrightarrow x)f_i\\operatorname dV(\\overrightarrow x)\n",
    "$$\n",
    "\n",
    "$$\n",
    "f_t^Q=\\int_{S_t}N_i^Q(\\overrightarrow x)t_i^n\\operatorname dS.\n",
    "$$\n",
    "\n",
    "\n",
    "Now, using the arbitrary character of $\\delta u^Q$ in the discrete version of the PVW yields:\n",
    "\n",
    "$$\n",
    "f_\\sigma^Q-f_V^Q-f_t^Q=0\n",
    "$$\n",
    "\n",
    "which is the discrete version of the principle of virtual displacements governing the equilibrium of the finite element. The discrete equilibrium relationhsip can be written alternatively in terms of the stiffness matrix and the element nodal displacements like:\n",
    "\n",
    "$$\n",
    "K^{QP}u^P=f_V^Q+f_t^Q.\n",
    "$$"
   ]
  },
  {
   "cell_type": "markdown",
   "metadata": {},
   "source": [
    "## In-class activity\n",
    "\n",
    "The figure below shows an incomplete second-order quad element of side $2h$ conformed by 8 nodes. It is called incomplete as the interpolation functions are not complete second-order Lagrange polynomials. \n",
    "\n",
    "<center><img src=\"img/loadedele.png\" alt=\"files\" style=\"width:300px\"></center>\n",
    "\n",
    "The material properties corresponding to the Young's modulus and Poisson's ratio are $E=1.0$ and $\\nu=1/3$ respectively. If the element is loaded with the nodal point forces shown in the figure and it is assumed to represent plane-strain conditions find:\n",
    "\n",
    "* (i) Write a Python subroutine to compute the element stiffness matrix according to:\n",
    "\n",
    "\n",
    "$$\n",
    "K^{QP} =\\int_{V(\\overrightarrow x)}B_{ij}^Q(\\overrightarrow x)C_{ijkl}B_{kl}^P(\\overrightarrow x)\\operatorname dV(\\overrightarrow x).\n",
    "$$\n",
    "\n",
    "\n",
    "* (ii) Use the subroutine from step (i) to compute $K$ for the given element and to solve the linear system:\n",
    "\n",
    "$$\n",
    "Ku=f.\n",
    "$$\n",
    "\n",
    "Note that the boundary conditions indicated in the figure must be imposed before solving the system.\n",
    "\n",
    "* (iii) Using the nodal displacements vector found in step (ii) plot contours for the variation of the strain and the stress field over the element.\n",
    "\n",
    "**Notes:**\n",
    "* Submit your work in the rest of this notebook.\n"
   ]
  },
  {
   "cell_type": "markdown",
   "metadata": {},
   "source": [
    "## Grading criteria\n",
    "\n",
    "Grading will be awarded considering the following points:\n",
    "\n",
    "* The rest of the **notebook** must be written in an organized fashion.\n",
    "\n",
    "* The code must include comments that are considered relevant and the subroutines must be simple, using intrinsic Python functions and avoiding unnecessary complexities.\n",
    "\n",
    "* The main subroutine must be written in such a way that it facilitates its generalization to other elements. To achieve this identify which tasks are general and which ones are particular to the element and code them as independent subroutines."
   ]
  },
  {
   "cell_type": "markdown",
   "metadata": {},
   "source": [
    "## Notes:\n",
    "\n",
    "* The final subroutine to compute the stiffness matrix can be fully implemented starting from the subroutines developed previously in the notebooks covering interpolation theory and numerical integration.\n",
    "\n",
    "* Elements of indicial notation, and particularly, its use in finite elements are covered in the **Lecture Notes** in the section labeled **Combined index notation for finite element analysis**."
   ]
  },
  {
   "cell_type": "markdown",
   "metadata": {},
   "source": [
    "### References\n",
    "\n",
    "Love, A. E. H. (2013). A treatise on the mathematical theory of elasticity. Cambridge university press."
   ]
  },
  {
   "cell_type": "code",
   "execution_count": 2,
   "metadata": {},
   "outputs": [
    {
     "data": {
      "text/html": [
       "\n",
       "<link href='http://fonts.googleapis.com/css?family=Fenix' rel='stylesheet' type='text/css'>\n",
       "<link href='http://fonts.googleapis.com/css?family=Alegreya+Sans:100,300,400,500,700,800,900,100italic,300italic,400italic,500italic,700italic,800italic,900italic' rel='stylesheet' type='text/css'>\n",
       "<link href='http://fonts.googleapis.com/css?family=Source+Code+Pro:300,400' rel='stylesheet' type='text/css'>\n",
       "<style>\n",
       "/* Based on Lorena Barba template available at: https://github.com/barbagroup/AeroPython/blob/master/styles/custom.css*/\n",
       "@font-face {\n",
       "font-family: \"Computer Modern\";\n",
       "src: url('http://mirrors.ctan.org/fonts/cm-unicode/fonts/otf/cmunss.otf');\n",
       "}\n",
       "div.cell{\n",
       "width:800px;\n",
       "margin-left:16% !important;\n",
       "margin-right:auto;\n",
       "}\n",
       "h1 {\n",
       "font-family: 'Alegreya Sans', sans-serif;\n",
       "}\n",
       "h2 {\n",
       "font-family: 'Fenix', serif;\n",
       "}\n",
       "h3{\n",
       "font-family: 'Fenix', serif;\n",
       "margin-top:12px;\n",
       "margin-bottom: 3px;\n",
       "}\n",
       "h4{\n",
       "font-family: 'Fenix', serif;\n",
       "}\n",
       "h5 {\n",
       "font-family: 'Alegreya Sans', sans-serif;\n",
       "}\t\n",
       "div.text_cell_render{\n",
       "font-family: 'Alegreya Sans',Computer Modern, \"Helvetica Neue\", Arial, Helvetica, Geneva, sans-serif;\n",
       "line-height: 135%;\n",
       "font-size: 120%;\n",
       "width:600px;\n",
       "margin-left:auto;\n",
       "margin-right:auto;\n",
       "}\n",
       ".CodeMirror{\n",
       "font-family: \"Source Code Pro\";\n",
       "font-size: 90%;\n",
       "}\n",
       "/* .prompt{\n",
       "display: None;\n",
       "}*/\n",
       ".text_cell_render h1 {\n",
       "font-weight: 200;\n",
       "font-size: 50pt;\n",
       "line-height: 100%;\n",
       "color:#CD2305;\n",
       "margin-bottom: 0.5em;\n",
       "margin-top: 0.5em;\n",
       "display: block;\n",
       "}\t\n",
       ".text_cell_render h5 {\n",
       "font-weight: 300;\n",
       "font-size: 16pt;\n",
       "color: #CD2305;\n",
       "font-style: italic;\n",
       "margin-bottom: .5em;\n",
       "margin-top: 0.5em;\n",
       "display: block;\n",
       "}\n",
       ".warning{\n",
       "color: rgb( 240, 20, 20 )\n",
       "}\n",
       "</style>\n",
       "<script>\n",
       "MathJax.Hub.Config({\n",
       "TeX: {\n",
       "extensions: [\"AMSmath.js\"]\n",
       "},\n",
       "tex2jax: {\n",
       "inlineMath: [ ['$','$'], [\"\\\\(\",\"\\\\)\"] ],\n",
       "displayMath: [ ['$$','$$'], [\"\\\\[\",\"\\\\]\"] ]\n",
       "},\n",
       "displayAlign: 'center', // Change this to 'center' to center equations.\n",
       "\"HTML-CSS\": {\n",
       "styles: {'.MathJax_Display': {\"margin\": 4}}\n",
       "}\n",
       "});\n",
       "</script>\n",
       "\n"
      ],
      "text/plain": [
       "<IPython.core.display.HTML object>"
      ]
     },
     "execution_count": 2,
     "metadata": {},
     "output_type": "execute_result"
    }
   ],
   "source": [
    "# This bit of code is a class added to make the title nice  (thanks to @lorenABarba )\n",
    "from IPython.core.display import HTML\n",
    "def css_styling():\n",
    "    styles = open('./styles/custom_barba.css', 'r').read()\n",
    "    return HTML(styles)\n",
    "css_styling()"
   ]
  },
  {
   "cell_type": "code",
   "execution_count": null,
   "metadata": {
    "collapsed": true
   },
   "outputs": [],
   "source": []
  }
 ],
 "metadata": {
  "celltoolbar": "Raw Cell Format",
  "kernelspec": {
   "display_name": "Python 2",
   "language": "python",
   "name": "python2"
  },
  "language_info": {
   "codemirror_mode": {
    "name": "ipython",
    "version": 2
   },
   "file_extension": ".py",
   "mimetype": "text/x-python",
   "name": "python",
   "nbconvert_exporter": "python",
   "pygments_lexer": "ipython2",
   "version": "2.7.13"
  }
 },
 "nbformat": 4,
 "nbformat_minor": 1
}
